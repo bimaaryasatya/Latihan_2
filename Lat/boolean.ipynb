{
 "cells": [
  {
   "cell_type": "markdown",
   "metadata": {},
   "source": [
    "Aljabar Boolean adalah cabang matematika yang berhubungan dengan operasi nilai logika dan menggabungkan variabel biner\n",
    "\n",
    "Contoh Penerapan Aljabar Boolean dalam Python\n",
    "Aljabar Boolean memiliki banyak aplikasi dalam pemrograman, termasuk Python. Berikut adalah beberapa contohnya:\n",
    "\n",
    "1. Operasi Logika Dasar:"
   ]
  },
  {
   "cell_type": "code",
   "execution_count": null,
   "metadata": {},
   "outputs": [],
   "source": [
    "# AND\n",
    "x = True\n",
    "y = False\n",
    "\n",
    "hasil_and = x and y\n",
    "print(f\"x AND y = {hasil_and}\")  # Output: False\n",
    "\n",
    "# OR\n",
    "x = True\n",
    "y = False\n",
    "\n",
    "hasil_or = x or y\n",
    "print(f\"x OR y = {hasil_or}\")  # Output: True\n",
    "\n",
    "# NOT\n",
    "x = True\n",
    "\n",
    "hasil_not = not x\n",
    "print(f\"NOT x = {hasil_not}\")  # Output: False"
   ]
  },
  {
   "cell_type": "code",
   "execution_count": null,
   "metadata": {},
   "outputs": [],
   "source": [
    "\n",
    "# OR\n",
    "x = False\n",
    "y = True\n",
    "\n",
    "hasil_or = x or y\n",
    "print(f\"x OR y = {hasil_or}\")  # Output: True\n",
    "\n",
    "# NOT\n",
    "x = True\n",
    "\n",
    "hasil_not = not x\n",
    "print(f\"NOT x = {hasil_not}\")  # Output: False"
   ]
  },
  {
   "cell_type": "markdown",
   "metadata": {},
   "source": [
    "2. Pengambilan Keputusan:"
   ]
  },
  {
   "cell_type": "code",
   "execution_count": null,
   "metadata": {},
   "outputs": [],
   "source": [
    "umur = 17\n",
    "memiliki_sim = True\n",
    "\n",
    "boleh_mengemudi = umur >= 17 and memiliki_sim\n",
    "\n",
    "if boleh_mengemudi:\n",
    "    print(\"Diperbolehkan mengemudi.\")\n",
    "else:\n",
    "    print(\"Tidak diperbolehkan mengemudi.\")"
   ]
  },
  {
   "cell_type": "markdown",
   "metadata": {},
   "source": [
    "3. Manipulasi Bit:"
   ]
  },
  {
   "cell_type": "code",
   "execution_count": null,
   "metadata": {},
   "outputs": [],
   "source": [
    " # Bitwise AND\n",
    "x = 10  # Binary: 1010\n",
    "y = 5   # Binary: 0101\n",
    "\n",
    "hasil_and_bitwise = x & y\n",
    "print(f\"x AND bitwise y = {hasil_and_bitwise}\")  # Output: 0  (Binary: 0000)\n",
    "\n",
    "# Bitwise OR\n",
    "x = 10  # Binary: 1010\n",
    "y = 5   # Binary: 0101\n",
    "\n",
    "hasil_or_bitwise = x | y\n",
    "print(f\"x OR bitwise y = {hasil_or_bitwise}\")  # Output: 15  (Binary: 1111)\n",
    "\n",
    "# Bitwise NOT\n",
    "x = 10  # Binary: 1010\n",
    "\n",
    "hasil_not_bitwise = ~x\n",
    "print(f\"NOT bitwise x = {hasil_not_bitwise}\")  # Output: -11  (Binary: 1101)\n"
   ]
  },
  {
   "cell_type": "markdown",
   "metadata": {},
   "source": [
    "4. Himpunan:"
   ]
  },
  {
   "cell_type": "code",
   "execution_count": null,
   "metadata": {},
   "outputs": [],
   "source": [
    "himpunan_a = {1, 2, 3}\n",
    "himpunan_b = {3, 4, 5}\n",
    "\n",
    "# Himpunan gabungan\n",
    "himpunan_gabung = himpunan_a | himpunan_b\n",
    "print(f\"Himpunan gabungan: {himpunan_gabung}\")  # Output: {1, 2, 3, 4, 5}\n",
    "\n",
    "# Himpunan irisan\n",
    "himpunan_irisan = himpunan_a & himpunan_b\n",
    "print(f\"Himpunan irisan: {himpunan_irisan}\")  # Output: {3}\n",
    "\n",
    "# Himpunan selisih\n",
    "himpunan_selisih = himpunan_a - himpunan_b\n",
    "print(f\"Himpunan selisih: {himpunan_selisih}\")  # Output: {1, 2}\n"
   ]
  },
  {
   "cell_type": "markdown",
   "metadata": {},
   "source": [
    "5. Representasi Keadaan:"
   ]
  },
  {
   "cell_type": "code",
   "execution_count": null,
   "metadata": {},
   "outputs": [],
   "source": [
    "lampu_menyala = True\n",
    "\n",
    "if lampu_menyala:\n",
    "    print(\"Lampu menyala.\")\n",
    "else:\n",
    "    print(\"Lampu mati.\")\n"
   ]
  },
  {
   "cell_type": "markdown",
   "metadata": {},
   "source": [
    "6. Algoritma Pencarian"
   ]
  },
  {
   "cell_type": "code",
   "execution_count": null,
   "metadata": {},
   "outputs": [],
   "source": [
    "def binary_search(data, target):\n",
    "  \n",
    "  low = 0\n",
    "  high = len(data) - 1\n",
    "\n",
    "  while low <= high:\n",
    "    mid = (low + high) // 2\n",
    "    if data[mid] == target:\n",
    "      return mid\n",
    "    elif data[mid] < target:\n",
    "      low = mid + 1\n",
    "    else:\n",
    "      high = mid - 1\n",
    "\n",
    "  return -1\n",
    "\n",
    "data = [1, 3, 5, 7, 9, 11, 13, 15, 17, 19]\n",
    "target = 5\n",
    "\n",
    "hasil = binary_search(data, target)\n",
    "\n",
    "if hasil != -1:\n",
    "  print(f\"Elemen {target} ditemukan pada indeks {hasil}\")\n",
    "else:\n",
    "  print(f\"Elemen {target} tidak ditemukan dalam daftar.\")\n"
   ]
  },
  {
   "cell_type": "markdown",
   "metadata": {},
   "source": [
    "7. Pemrosesan Citra Digital"
   ]
  },
  {
   "cell_type": "code",
   "execution_count": null,
   "metadata": {},
   "outputs": [],
   "source": [
    "import matplotlib.pyplot as plt\n",
    "from PIL import Image\n",
    "\n",
    "def hitam_putih(nama_file):\n",
    "    gambar = Image.open(nama_file)\n",
    "    gambar_grayscale = gambar.convert('L')\n",
    "    piksel_baru = []\n",
    "    for piksel in gambar_grayscale.getdata():\n",
    "        if piksel < 105:\n",
    "            piksel_baru.append(0)  # Hitam\n",
    "        else:\n",
    "            piksel_baru.append(255)  # Putih\n",
    "    gambar_hitam_putih = Image.new('L', gambar_grayscale.size)\n",
    "    gambar_hitam_putih.putdata(piksel_baru)\n",
    "    return gambar_hitam_putih\n",
    "\n",
    "gambar_file = 'c:/Users/bimazznxt/Desktop/lat_py/Lat/gambar.jpg'\n",
    "gambar_hitam_putih = hitam_putih(gambar_file)\n",
    "plt.imshow(gambar_hitam_putih, cmap='gray')\n",
    "plt.show()\n",
    "\n",
    "print(\"Gambar telah diubah menjadi hitam putih dan ditampilkan.\")"
   ]
  }
 ],
 "metadata": {
  "kernelspec": {
   "display_name": "Python 3",
   "language": "python",
   "name": "python3"
  },
  "language_info": {
   "codemirror_mode": {
    "name": "ipython",
    "version": 3
   },
   "file_extension": ".py",
   "mimetype": "text/x-python",
   "name": "python",
   "nbconvert_exporter": "python",
   "pygments_lexer": "ipython3",
   "version": "3.12.1"
  }
 },
 "nbformat": 4,
 "nbformat_minor": 2
}
